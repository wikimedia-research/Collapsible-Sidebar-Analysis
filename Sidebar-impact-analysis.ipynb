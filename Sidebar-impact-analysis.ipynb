{
 "cells": [
  {
   "cell_type": "markdown",
   "metadata": {},
   "source": [
    "# Collapsible Sidebar Impact Analysis\n",
    "\n",
    "[Task](https://phabricator.wikimedia.org/T245735)"
   ]
  },
  {
   "cell_type": "markdown",
   "metadata": {},
   "source": [
    "# Purpose\n",
    "\n",
    "Investigate how the collapsible sidebar is affecting user behavior."
   ]
  },
  {
   "cell_type": "markdown",
   "metadata": {},
   "source": [
    "# Reference Tasks\n",
    "* Epic https://phabricator.wikimedia.org/T247032\n",
    "* Test Wiki Deployment: https://phabricator.wikimedia.org/T254227\n"
   ]
  },
  {
   "cell_type": "markdown",
   "metadata": {},
   "source": [
    "# Notes\n",
    "\n",
    "* Instrumentation is deployed as opt-out to test wikise (sidebar collapsed by defualy)\n",
    "*  Sidebar will be open by default for all users (with the possibility to close by default for logged-out users at a later time)\n",
    "* State of the sidebar is preserved for logged-in users across sessions (nice to have: globally)\n",
    "* DIP Config: https://docs.google.com/spreadsheets/d/1svlRDsYjOhjXkIV1a-DqLYTcLIFuYoc6pHHz8_VmQcc/edit#gid=625518477\n",
    "* Instrumentation Doc: https://docs.google.com/spreadsheets/d/1GtlAas8wBD4-J03nqwZlFaBJ0TYbhv-ORWheho4LCQs/edit#gid=0\n",
    "* Deployment Dates:\n",
    "\n",
    "| project | Wed. July 22 | Tues. July 28 | Wed. Aug 5|\n",
    "|--------------|------------|-------------|-------------|\n",
    "| euwiki (Basque Wikipedia) | x | | \n",
    "| fawiki (Persian Wikipedia) | | x | \n",
    "| frwiki (French Wikipedia) | | | x \n",
    "| frwiktionary (French Wiktionary) | x | | \n",
    "| hewiki (Hebrew Wikipedia) | | x | \n",
    "| ptwikiversity (Portuguese Wikiversity) | x | | "
   ]
  },
  {
   "cell_type": "markdown",
   "metadata": {},
   "source": [
    "# Metrics\n",
    "\n",
    "* What is the frequency that users collapse and uncollapse the sidebar? \n",
    "    * How many people?\n",
    "    * How many times per session?\n",
    "* What is the difference in interaction with sidebar links between people with the sidebar collapsed (the majority of the time) versus uncollapsed (the majority of the time). i.e. Once the sidebar is collapsed, do users open it when they need to, or do they just ignore it altogether?\n",
    "    * given an average session length, do ppl have it open or closed for 50% of the time of their avg session length.\n",
    "* What is the overall difference in interaction with sidebar links before and after the change?\n",
    "    * rerun report or look at pre and post deployment changes\n",
    "* In particular, what is the overall difference in interaction with the donate link?\n"
   ]
  },
  {
   "cell_type": "markdown",
   "metadata": {},
   "source": [
    "# What is the frequency that users collapse and uncollapse the sidebar?\n"
   ]
  }
 ],
 "metadata": {
  "kernelspec": {
   "display_name": "R",
   "language": "R",
   "name": "ir"
  },
  "language_info": {
   "codemirror_mode": "r",
   "file_extension": ".r",
   "mimetype": "text/x-r-source",
   "name": "R",
   "pygments_lexer": "r",
   "version": "3.5.2"
  }
 },
 "nbformat": 4,
 "nbformat_minor": 4
}
